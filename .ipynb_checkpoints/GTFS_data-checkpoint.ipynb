{
 "cells": [
  {
   "cell_type": "code",
   "execution_count": 3,
   "metadata": {},
   "outputs": [],
   "source": [
    "import mysql.connector\n",
    "from mysql.connector import Error\n",
    "from mysql.connector import errorcode\n",
    "from mysql.connector.constants import ClientFlag"
   ]
  },
  {
   "cell_type": "code",
   "execution_count": 72,
   "metadata": {},
   "outputs": [],
   "source": [
    "def insert_agency():\n",
    "    connection = mysql.connector.connect(host='localhost', database='gtfs', user='root', password='admin')\n",
    "    try:\n",
    "        cursor = connection.cursor()\n",
    "        filepath = \"C:\\\\Users\\\\kakka\\\\Documents\\\\GTFS_\\\\openov-gtfs-mysql-master\\\\gtfs\\\\agency.txt\"\n",
    "        with open(filepath, \"r\") as file:\n",
    "            next(file)\n",
    "            for row in file: \n",
    "                row = row.split(',')\n",
    "                print(row)\n",
    "                agency_iq = \"\"\" INSERT INTO `agency`\n",
    "                                  (`agency_id`, `agency_name`, `agency_url`, `agency_timezone`, `agency_phone`) \n",
    "                                  VALUES (%s, %s, %s, %s, %s)\"\"\"\n",
    "                result  = cursor.execute(agency_iq, (row[0], row[1], row[2], row[3], row[4]))\n",
    "                connection.commit()\n",
    "                print(\"Record inserted successfully into gtfs.agency table\")\n",
    "    except mysql.connector.Error as error :\n",
    "        connection.rollback() #rollback if any exception occured\n",
    "        print(\"Failed inserting record into agency table {}\".format(error))\n",
    "\n",
    "    finally:\n",
    "        #closing database connection.\n",
    "        if(connection.is_connected()):\n",
    "            cursor.close()\n",
    "            connection.close()\n",
    "            print(\"MySQL connection is closed\")"
   ]
  },
  {
   "cell_type": "code",
   "execution_count": 109,
   "metadata": {},
   "outputs": [],
   "source": [
    "def insert_stoptimes():\n",
    "    connection = mysql.connector.connect(host='localhost', database='gtfs', user='root', password='admin')\n",
    "    try:\n",
    "        cursor = connection.cursor()\n",
    "        filepath = \"C:\\\\Users\\\\kakka\\\\Documents\\\\GTFS_\\\\openov-gtfs-mysql-master\\\\gtfs\\\\stop_times.txt\"\n",
    "        with open(filepath, \"r\") as file:\n",
    "            next(file)\n",
    "            for row in file: \n",
    "                row = [x.strip() if x not in (None, '') else None for x in row.split(',')]\n",
    "                print(row)\n",
    "#                 trip_id,stop_sequence,stop_id,stop_headsign,\n",
    "#                 arrival_time,departure_time,pickup_type,drop_off_type,\n",
    "#                 timepoint,shape_dist_traveled,fare_units_traveled\n",
    "                stoptimes_iq = \"\"\" INSERT INTO `gtfs`.`stop_times` (`trip_id`, `stop_sequence`, `stop_id`,\n",
    "                `stop_headsign`, `arrival_time`, `departure_time`, `pickup_type`, `drop_off_type`, `timepoint`,\n",
    "                `shape_dist_traveled`, `fare_units_traveled`) VALUES (%s, %s, %s, %s, %s, %s, %s, %s, %s, %s, %s);\"\"\"\n",
    "                result  = cursor.execute(stoptimes_iq, (row[0], row[1], row[2], row[3], row[4], row[5], row[6], \\\n",
    "                                                        row[7], row[8], row[9], row[10]))\n",
    "                connection.commit()\n",
    "                print(\"Record inserted successfully into gtfs.stop_times\")\n",
    "    except mysql.connector.Error as error :\n",
    "        print(cursor.statement)\n",
    "        connection.rollback() #rollback if any exception occured\n",
    "        print(\"Failed inserting record into gtfs.stop_times {}\".format(error))\n",
    "\n",
    "    finally:\n",
    "        #closing database connection.\n",
    "        if(connection.is_connected()):\n",
    "            cursor.close()\n",
    "            connection.close()\n",
    "            print(\"MySQL connection is closed\")"
   ]
  },
  {
   "cell_type": "code",
   "execution_count": 50,
   "metadata": {},
   "outputs": [],
   "source": [
    "def bulk_ins():\n",
    "    try:\n",
    "        connection = mysql.connector.connect(host='localhost', database='gtfs', user='root', \\\n",
    "                                             password='admin', client_flags=[ClientFlag.LOCAL_FILES])\n",
    "        print(\"Connected to DB...\", ClientFlag.LOCAL_FILES)\n",
    "        # Create cursor and execute Load SQL\n",
    "        filename = 'C:\\\\Users\\\\kakka\\\\Documents\\\\GTFS_\\\\openov-gtfs-mysql-master\\\\gtfs\\\\stop_times.txt'\n",
    "        load_sql = \"\"\"LOAD DATA LOCAL INFILE 'C:/Users/kakka/Documents/GTFS_/openov-gtfs-mysql-master/gtfs/stop_times.txt'\n",
    "        INTO TABLE gtfs.stop_times \n",
    "        FIELDS TERMINATED BY ',' OPTIONALLY ENCLOSED BY '\"' LINES TERMINATED BY '\\\\n' IGNORE 1 LINES;\"\"\"\n",
    "        cursor = connection.cursor()\n",
    "        cursor.execute(load_sql)\n",
    "        print('Succuessfully loaded the table from FILE.')\n",
    "    \n",
    "    except mysql.connector.Error as error :\n",
    "        print(cursor.statement)\n",
    "        connection.rollback() #rollback if any exception occured\n",
    "        print(\"Failed inserting record into gtfs.stop_times {}\".format(error))\n",
    "        \n",
    "    finally:\n",
    "        #closing database connection.\n",
    "        if(connection.is_connected()):\n",
    "            cursor.close()\n",
    "            connection.close()\n",
    "            print(\"MySQL connection is closed\")"
   ]
  },
  {
   "cell_type": "code",
   "execution_count": 28,
   "metadata": {},
   "outputs": [],
   "source": [
    "def ldli_agency():\n",
    "    try:\n",
    "        connection = mysql.connector.connect(host='localhost', database='gtfs', user='root', \\\n",
    "                                             password='admin', client_flags=[ClientFlag.LOCAL_FILES])\n",
    "        print(\"Connected to DB...\", ClientFlag.LOCAL_FILES)\n",
    "        # Create cursor and execute Load SQL\n",
    "        filename = \"'C:/Users/kakka/Documents/GTFS_/openov-gtfs-mysql-master/gtfs/agency.txt'\"\n",
    "        load_sql = (\"LOAD DATA LOCAL INFILE \" + filename +\n",
    "                    \" INTO TABLE gtfs.agency FIELDS TERMINATED BY ','\"\n",
    "                    \" OPTIONALLY ENCLOSED BY '\\\"' LINES TERMINATED BY '\\\\n' IGNORE 1 LINES;\")\n",
    "        print(load_sql)\n",
    "        cursor = connection.cursor()\n",
    "        cursor.execute(load_sql)\n",
    "        print('Succuessfully loaded the table AGENCY from FILE.')\n",
    "    \n",
    "    except mysql.connector.Error as error :\n",
    "        print(cursor.statement)\n",
    "        connection.rollback() #rollback if any exception occured\n",
    "        print(\"Failed inserting record into gtfs.agency {}\".format(error))\n",
    "        \n",
    "    finally:\n",
    "        #closing database connection.\n",
    "        if(connection.is_connected()):\n",
    "            cursor.close()\n",
    "            connection.close()\n",
    "            print(\"MySQL connection is closed\")"
   ]
  },
  {
   "cell_type": "code",
   "execution_count": 29,
   "metadata": {},
   "outputs": [
    {
     "name": "stdout",
     "output_type": "stream",
     "text": [
      "Connected to DB... 128\n",
      "LOAD DATA LOCAL INFILE 'C:/Users/kakka/Documents/GTFS_/openov-gtfs-mysql-master/gtfs/agency.txt' INTO TABLE gtfs.agency FIELDS TERMINATED BY ',' OPTIONALLY ENCLOSED BY '\"' LINES TERMINATED BY '\\n' IGNORE 1 LINES;\n",
      "Succuessfully loaded the table AGENCY from FILE.\n",
      "MySQL connection is closed\n"
     ]
    }
   ],
   "source": [
    "def main():\n",
    "#     insert_agency()\n",
    "#     insert_stoptimes()\n",
    "#     bulk_ins()\n",
    "    ldli_agency()\n",
    "    \n",
    "if __name__ == \"__main__\":\n",
    "    main()"
   ]
  },
  {
   "cell_type": "code",
   "execution_count": null,
   "metadata": {},
   "outputs": [],
   "source": []
  }
 ],
 "metadata": {
  "kernelspec": {
   "display_name": "Python 3",
   "language": "python",
   "name": "python3"
  },
  "language_info": {
   "codemirror_mode": {
    "name": "ipython",
    "version": 3
   },
   "file_extension": ".py",
   "mimetype": "text/x-python",
   "name": "python",
   "nbconvert_exporter": "python",
   "pygments_lexer": "ipython3",
   "version": "3.7.0"
  }
 },
 "nbformat": 4,
 "nbformat_minor": 2
}
