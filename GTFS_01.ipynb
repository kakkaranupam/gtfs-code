{
 "cells": [
  {
   "cell_type": "code",
   "execution_count": 1,
   "metadata": {},
   "outputs": [],
   "source": [
    "from google.transit import gtfs_realtime_pb2\n",
    "import requests"
   ]
  },
  {
   "cell_type": "code",
   "execution_count": 2,
   "metadata": {},
   "outputs": [],
   "source": [
    "from datetime import datetime\n",
    "import mysql.connector\n",
    "from mysql.connector import Error\n",
    "from mysql.connector import errorcode\n",
    "from mysql.connector.constants import ClientFlag"
   ]
  },
  {
   "cell_type": "code",
   "execution_count": 6,
   "metadata": {},
   "outputs": [
    {
     "name": "stdout",
     "output_type": "stream",
     "text": [
      "2019-01-22 10:12:04\n",
      "entity.trip_update.trip.route_id ---  57672\n",
      "entity.trip_update.trip.route_id ---  57672\n",
      "entity.trip_update.trip.route_id ---  57672\n",
      "entity.trip_update.trip.route_id ---  57672\n",
      "entity.trip_update.trip.route_id ---  57672\n",
      "entity.trip_update.trip.route_id ---  57672\n",
      "159\n"
     ]
    }
   ],
   "source": [
    "feed = gtfs_realtime_pb2.FeedMessage()\n",
    "response = requests.get('http://gtfs.ovapi.nl/nl/tripUpdates.pb')\n",
    "rsn = '1'\n",
    "rt = 1\n",
    "all_tus = []\n",
    "if(response.status_code == 200):\n",
    "    feed.ParseFromString(response.content)\n",
    "    ts = datetime.now().strftime('%Y-%m-%d %H:%M:%S')\n",
    "    print(ts)\n",
    "    for entity in feed.entity:\n",
    "      if entity.HasField('trip_update'):\n",
    "        if(entity.trip_update.trip.route_id == '57672'):\n",
    "            print(\"entity.trip_update.trip.route_id --- \", entity.trip_update.trip.route_id)\n",
    "            for x in entity.trip_update.stop_time_update:\n",
    "                all_tus.append((entity.id, entity.trip_update.trip.route_id, rsn, rt, entity.trip_update.trip.trip_id, \\\n",
    "                       entity.trip_update.trip.direction_id, entity.trip_update.trip.start_date, entity.trip_update.trip.start_time,\\\n",
    "                       x.stop_sequence, x.stop_id, x.arrival.time, x.arrival.delay, x.departure.time, x.departure.delay, ts))\n",
    "else:\n",
    "    print(\"ERROR FETCHING REALTIME DATA FROM THE gtfs.ovapi.nl server\")\n",
    "    print(response.reason)\n",
    "\n",
    "print(len(all_tus))"
   ]
  },
  {
   "cell_type": "code",
   "execution_count": 74,
   "metadata": {},
   "outputs": [],
   "source": [
    "# INSERT REALTIME DATA TO DB\n",
    "def insert_rtdata(trip_updates):\n",
    "    try:\n",
    "        connection = mysql.connector.connect(host='localhost', database='gtfs', user='root', password='admin')\n",
    "        cursor = connection.cursor()\n",
    "        tu_query = \"\"\" INSERT INTO GTFS.trip_updates\n",
    "                        (entity_id, route_id, route_short_name, route_type, trip_id, direction_id, start_date, start_time,\n",
    "                        stop_sequence, stop_id, arrival_time, arrival_delay, departure_time, departure_delay, fetch_time)\n",
    "                        VALUES (%s, %s, %s, %s, %s, %s, %s, %s, %s, %s, %s, %s, %s, %s, %s);\"\"\"\n",
    "        # INCREASE PACKET SIZE TO BULK INSERT DATA\n",
    "        packet_sql = 'SET GLOBAL max_allowed_packet=256*1024*1024'\n",
    "        cursor.execute(packet_sql)\n",
    "        result  = cursor.executemany(tu_query, trip_updates)\n",
    "        connection.commit()\n",
    "        print(\"Record inserted successfully into GTFS.trip_updates table ... \")\n",
    "        \n",
    "    except mysql.connector.Error as error :\n",
    "        connection.rollback() #rollback if any exception occured\n",
    "        print(\"Failed inserting record into GTFS.trip_updates table ... {}\".format(error))\n",
    "\n",
    "    finally:\n",
    "        #closing database connection.\n",
    "        if(connection.is_connected()):\n",
    "            cursor.close()\n",
    "            connection.close()\n",
    "            print(\"MySQL connection is closed ... \")"
   ]
  },
  {
   "cell_type": "code",
   "execution_count": 75,
   "metadata": {},
   "outputs": [
    {
     "name": "stdout",
     "output_type": "stream",
     "text": [
      "Record inserted successfully into GTFS.trip_updates table ... \n",
      "MySQL connection is closed ... \n"
     ]
    }
   ],
   "source": [
    "insert_rtdata(all_tus)"
   ]
  },
  {
   "cell_type": "code",
   "execution_count": 88,
   "metadata": {},
   "outputs": [
    {
     "name": "stdout",
     "output_type": "stream",
     "text": [
      "('2019-01-20:CXX:A006:7027', '1068', '1', 1, '85058488', 0, '20190120', '14:17:00', 9, '356115', 1547990986, 46, 1547991002, 62, '2019-01-20 14:46:37')\n"
     ]
    }
   ],
   "source": [
    "print(all_tus[350])"
   ]
  },
  {
   "cell_type": "code",
   "execution_count": null,
   "metadata": {},
   "outputs": [],
   "source": []
  }
 ],
 "metadata": {
  "kernelspec": {
   "display_name": "Python 3",
   "language": "python",
   "name": "python3"
  },
  "language_info": {
   "codemirror_mode": {
    "name": "ipython",
    "version": 3
   },
   "file_extension": ".py",
   "mimetype": "text/x-python",
   "name": "python",
   "nbconvert_exporter": "python",
   "pygments_lexer": "ipython3",
   "version": "3.7.0"
  }
 },
 "nbformat": 4,
 "nbformat_minor": 2
}
